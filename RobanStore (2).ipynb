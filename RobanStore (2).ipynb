{
 "cells": [
  {
   "cell_type": "code",
   "execution_count": 48,
   "id": "4dd2f45f-71da-4f9e-96b2-91975205d0e3",
   "metadata": {},
   "outputs": [
    {
     "name": "stdout",
     "output_type": "stream",
     "text": [
      "CUSTOMER SEGMENTATION\n"
     ]
    }
   ],
   "source": [
    " print('CUSTOMER SEGMENTATION')"
   ]
  },
  {
   "cell_type": "code",
   "execution_count": 10,
   "id": "2aefa66a-504d-4c8b-b70d-ea361fa71a00",
   "metadata": {},
   "outputs": [],
   "source": [
    "import pandas as pd\n",
    "import numpy as np\n",
    "import matplotlib.pyplot as plt"
   ]
  },
  {
   "cell_type": "code",
   "execution_count": 11,
   "id": "bc41b36c-8cad-4af7-a149-18aa22b7e0fa",
   "metadata": {},
   "outputs": [],
   "source": [
    "data = pd.read_excel(r'\\\\Mac\\Home\\Desktop\\Roban_Stores_ Dataset.xls')"
   ]
  },
  {
   "cell_type": "code",
   "execution_count": 185,
   "id": "04bc5840-0aaa-4105-9a6c-4031415ca1ba",
   "metadata": {},
   "outputs": [
    {
     "data": {
      "text/html": [
       "<div>\n",
       "<style scoped>\n",
       "    .dataframe tbody tr th:only-of-type {\n",
       "        vertical-align: middle;\n",
       "    }\n",
       "\n",
       "    .dataframe tbody tr th {\n",
       "        vertical-align: top;\n",
       "    }\n",
       "\n",
       "    .dataframe thead th {\n",
       "        text-align: right;\n",
       "    }\n",
       "</style>\n",
       "<table border=\"1\" class=\"dataframe\">\n",
       "  <thead>\n",
       "    <tr style=\"text-align: right;\">\n",
       "      <th></th>\n",
       "      <th>invoice_no</th>\n",
       "      <th>customer_id</th>\n",
       "      <th>gender</th>\n",
       "      <th>category</th>\n",
       "      <th>quantity</th>\n",
       "      <th>price</th>\n",
       "      <th>Sales Amount</th>\n",
       "      <th>payment_method</th>\n",
       "      <th>invoice_date</th>\n",
       "      <th>shopping_mall</th>\n",
       "    </tr>\n",
       "  </thead>\n",
       "  <tbody>\n",
       "    <tr>\n",
       "      <th>0</th>\n",
       "      <td>I138884</td>\n",
       "      <td>C241288</td>\n",
       "      <td>Female</td>\n",
       "      <td>fashion</td>\n",
       "      <td>5</td>\n",
       "      <td>12500</td>\n",
       "      <td>62500</td>\n",
       "      <td>Credit Card</td>\n",
       "      <td>2022-08-05</td>\n",
       "      <td>Trans - Ekulu</td>\n",
       "    </tr>\n",
       "    <tr>\n",
       "      <th>1</th>\n",
       "      <td>I317333</td>\n",
       "      <td>C111565</td>\n",
       "      <td>Male</td>\n",
       "      <td>fashion</td>\n",
       "      <td>3</td>\n",
       "      <td>22500</td>\n",
       "      <td>67500</td>\n",
       "      <td>Roban Gift Card</td>\n",
       "      <td>2021-12-12</td>\n",
       "      <td>Nnewi Mall</td>\n",
       "    </tr>\n",
       "    <tr>\n",
       "      <th>2</th>\n",
       "      <td>I127801</td>\n",
       "      <td>C266599</td>\n",
       "      <td>Male</td>\n",
       "      <td>fashion</td>\n",
       "      <td>1</td>\n",
       "      <td>7000</td>\n",
       "      <td>7000</td>\n",
       "      <td>Cash</td>\n",
       "      <td>2021-11-09</td>\n",
       "      <td>independence layout</td>\n",
       "    </tr>\n",
       "    <tr>\n",
       "      <th>3</th>\n",
       "      <td>I173702</td>\n",
       "      <td>C988172</td>\n",
       "      <td>Female</td>\n",
       "      <td>fashion</td>\n",
       "      <td>5</td>\n",
       "      <td>71300</td>\n",
       "      <td>356500</td>\n",
       "      <td>Credit Card</td>\n",
       "      <td>2021-05-16</td>\n",
       "      <td>Awka Mall</td>\n",
       "    </tr>\n",
       "    <tr>\n",
       "      <th>4</th>\n",
       "      <td>I337046</td>\n",
       "      <td>C189076</td>\n",
       "      <td>Female</td>\n",
       "      <td>bakerys</td>\n",
       "      <td>4</td>\n",
       "      <td>3050</td>\n",
       "      <td>12200</td>\n",
       "      <td>Cash</td>\n",
       "      <td>2021-10-24</td>\n",
       "      <td>Trans - Ekulu</td>\n",
       "    </tr>\n",
       "    <tr>\n",
       "      <th>...</th>\n",
       "      <td>...</td>\n",
       "      <td>...</td>\n",
       "      <td>...</td>\n",
       "      <td>...</td>\n",
       "      <td>...</td>\n",
       "      <td>...</td>\n",
       "      <td>...</td>\n",
       "      <td>...</td>\n",
       "      <td>...</td>\n",
       "      <td>...</td>\n",
       "    </tr>\n",
       "    <tr>\n",
       "      <th>99452</th>\n",
       "      <td>I219422</td>\n",
       "      <td>C441542</td>\n",
       "      <td>Female</td>\n",
       "      <td>fruits &amp; vegetable</td>\n",
       "      <td>5</td>\n",
       "      <td>3720</td>\n",
       "      <td>18600</td>\n",
       "      <td>Credit Card</td>\n",
       "      <td>2022-09-21</td>\n",
       "      <td>Trans - Ekulu</td>\n",
       "    </tr>\n",
       "    <tr>\n",
       "      <th>99453</th>\n",
       "      <td>I325143</td>\n",
       "      <td>C569580</td>\n",
       "      <td>Male</td>\n",
       "      <td>Food &amp; Beverage</td>\n",
       "      <td>2</td>\n",
       "      <td>5500</td>\n",
       "      <td>11000</td>\n",
       "      <td>Cash</td>\n",
       "      <td>2021-09-22</td>\n",
       "      <td>Nnewi Mall</td>\n",
       "    </tr>\n",
       "    <tr>\n",
       "      <th>99454</th>\n",
       "      <td>I824010</td>\n",
       "      <td>C103292</td>\n",
       "      <td>Male</td>\n",
       "      <td>Food &amp; Beverage</td>\n",
       "      <td>2</td>\n",
       "      <td>5500</td>\n",
       "      <td>11000</td>\n",
       "      <td>Roban Gift Card</td>\n",
       "      <td>2021-03-28</td>\n",
       "      <td>independence layout</td>\n",
       "    </tr>\n",
       "    <tr>\n",
       "      <th>99455</th>\n",
       "      <td>I702964</td>\n",
       "      <td>C800631</td>\n",
       "      <td>Male</td>\n",
       "      <td>household</td>\n",
       "      <td>4</td>\n",
       "      <td>4200</td>\n",
       "      <td>16800</td>\n",
       "      <td>Cash</td>\n",
       "      <td>2021-03-16</td>\n",
       "      <td>Nike Lake Mall</td>\n",
       "    </tr>\n",
       "    <tr>\n",
       "      <th>99456</th>\n",
       "      <td>I232867</td>\n",
       "      <td>C273973</td>\n",
       "      <td>Female</td>\n",
       "      <td>fruits &amp; vegetable</td>\n",
       "      <td>3</td>\n",
       "      <td>5300</td>\n",
       "      <td>15900</td>\n",
       "      <td>Credit Card</td>\n",
       "      <td>2022-10-15</td>\n",
       "      <td>Agbani Mall</td>\n",
       "    </tr>\n",
       "  </tbody>\n",
       "</table>\n",
       "<p>99457 rows × 10 columns</p>\n",
       "</div>"
      ],
      "text/plain": [
       "      invoice_no customer_id  gender            category  quantity  price  \\\n",
       "0        I138884     C241288  Female             fashion         5  12500   \n",
       "1        I317333     C111565    Male             fashion         3  22500   \n",
       "2        I127801     C266599    Male             fashion         1   7000   \n",
       "3        I173702     C988172  Female             fashion         5  71300   \n",
       "4        I337046     C189076  Female             bakerys         4   3050   \n",
       "...          ...         ...     ...                 ...       ...    ...   \n",
       "99452    I219422     C441542  Female  fruits & vegetable         5   3720   \n",
       "99453    I325143     C569580    Male     Food & Beverage         2   5500   \n",
       "99454    I824010     C103292    Male     Food & Beverage         2   5500   \n",
       "99455    I702964     C800631    Male           household         4   4200   \n",
       "99456    I232867     C273973  Female  fruits & vegetable         3   5300   \n",
       "\n",
       "       Sales Amount   payment_method invoice_date        shopping_mall  \n",
       "0             62500      Credit Card   2022-08-05        Trans - Ekulu  \n",
       "1             67500  Roban Gift Card   2021-12-12           Nnewi Mall  \n",
       "2              7000             Cash   2021-11-09  independence layout  \n",
       "3            356500      Credit Card   2021-05-16            Awka Mall  \n",
       "4             12200             Cash   2021-10-24        Trans - Ekulu  \n",
       "...             ...              ...          ...                  ...  \n",
       "99452         18600      Credit Card   2022-09-21        Trans - Ekulu  \n",
       "99453         11000             Cash   2021-09-22           Nnewi Mall  \n",
       "99454         11000  Roban Gift Card   2021-03-28  independence layout  \n",
       "99455         16800             Cash   2021-03-16       Nike Lake Mall  \n",
       "99456         15900      Credit Card   2022-10-15          Agbani Mall  \n",
       "\n",
       "[99457 rows x 10 columns]"
      ]
     },
     "execution_count": 185,
     "metadata": {},
     "output_type": "execute_result"
    }
   ],
   "source": [
    "data"
   ]
  },
  {
   "cell_type": "code",
   "execution_count": 186,
   "id": "0f59aea8-1ae9-4d33-9a19-3cf61cc6cc14",
   "metadata": {},
   "outputs": [],
   "source": [
    "data= data[['customer_id','gender','Sales Amount']]"
   ]
  },
  {
   "cell_type": "code",
   "execution_count": 187,
   "id": "56d173e8-8cbb-4af8-879d-1cf37fb7a599",
   "metadata": {},
   "outputs": [
    {
     "data": {
      "text/html": [
       "<div>\n",
       "<style scoped>\n",
       "    .dataframe tbody tr th:only-of-type {\n",
       "        vertical-align: middle;\n",
       "    }\n",
       "\n",
       "    .dataframe tbody tr th {\n",
       "        vertical-align: top;\n",
       "    }\n",
       "\n",
       "    .dataframe thead th {\n",
       "        text-align: right;\n",
       "    }\n",
       "</style>\n",
       "<table border=\"1\" class=\"dataframe\">\n",
       "  <thead>\n",
       "    <tr style=\"text-align: right;\">\n",
       "      <th></th>\n",
       "      <th>customer_id</th>\n",
       "      <th>gender</th>\n",
       "      <th>Sales Amount</th>\n",
       "    </tr>\n",
       "  </thead>\n",
       "  <tbody>\n",
       "    <tr>\n",
       "      <th>0</th>\n",
       "      <td>C241288</td>\n",
       "      <td>Female</td>\n",
       "      <td>62500</td>\n",
       "    </tr>\n",
       "    <tr>\n",
       "      <th>1</th>\n",
       "      <td>C111565</td>\n",
       "      <td>Male</td>\n",
       "      <td>67500</td>\n",
       "    </tr>\n",
       "    <tr>\n",
       "      <th>2</th>\n",
       "      <td>C266599</td>\n",
       "      <td>Male</td>\n",
       "      <td>7000</td>\n",
       "    </tr>\n",
       "    <tr>\n",
       "      <th>3</th>\n",
       "      <td>C988172</td>\n",
       "      <td>Female</td>\n",
       "      <td>356500</td>\n",
       "    </tr>\n",
       "    <tr>\n",
       "      <th>4</th>\n",
       "      <td>C189076</td>\n",
       "      <td>Female</td>\n",
       "      <td>12200</td>\n",
       "    </tr>\n",
       "    <tr>\n",
       "      <th>...</th>\n",
       "      <td>...</td>\n",
       "      <td>...</td>\n",
       "      <td>...</td>\n",
       "    </tr>\n",
       "    <tr>\n",
       "      <th>99452</th>\n",
       "      <td>C441542</td>\n",
       "      <td>Female</td>\n",
       "      <td>18600</td>\n",
       "    </tr>\n",
       "    <tr>\n",
       "      <th>99453</th>\n",
       "      <td>C569580</td>\n",
       "      <td>Male</td>\n",
       "      <td>11000</td>\n",
       "    </tr>\n",
       "    <tr>\n",
       "      <th>99454</th>\n",
       "      <td>C103292</td>\n",
       "      <td>Male</td>\n",
       "      <td>11000</td>\n",
       "    </tr>\n",
       "    <tr>\n",
       "      <th>99455</th>\n",
       "      <td>C800631</td>\n",
       "      <td>Male</td>\n",
       "      <td>16800</td>\n",
       "    </tr>\n",
       "    <tr>\n",
       "      <th>99456</th>\n",
       "      <td>C273973</td>\n",
       "      <td>Female</td>\n",
       "      <td>15900</td>\n",
       "    </tr>\n",
       "  </tbody>\n",
       "</table>\n",
       "<p>99457 rows × 3 columns</p>\n",
       "</div>"
      ],
      "text/plain": [
       "      customer_id  gender  Sales Amount\n",
       "0         C241288  Female         62500\n",
       "1         C111565    Male         67500\n",
       "2         C266599    Male          7000\n",
       "3         C988172  Female        356500\n",
       "4         C189076  Female         12200\n",
       "...           ...     ...           ...\n",
       "99452     C441542  Female         18600\n",
       "99453     C569580    Male         11000\n",
       "99454     C103292    Male         11000\n",
       "99455     C800631    Male         16800\n",
       "99456     C273973  Female         15900\n",
       "\n",
       "[99457 rows x 3 columns]"
      ]
     },
     "execution_count": 187,
     "metadata": {},
     "output_type": "execute_result"
    }
   ],
   "source": [
    "data"
   ]
  },
  {
   "cell_type": "code",
   "execution_count": 188,
   "id": "63c66874-ad3f-425f-8324-0e87839d0687",
   "metadata": {},
   "outputs": [],
   "source": [
    "from sklearn.preprocessing import LabelEncoder"
   ]
  },
  {
   "cell_type": "code",
   "execution_count": 189,
   "id": "4db9e0bf-73dd-4fe1-ac42-ed1e36079ad0",
   "metadata": {},
   "outputs": [],
   "source": [
    "le = LabelEncoder()"
   ]
  },
  {
   "cell_type": "code",
   "execution_count": 190,
   "id": "d338e641-a894-4017-9bdd-068a76e2d275",
   "metadata": {},
   "outputs": [
    {
     "name": "stderr",
     "output_type": "stream",
     "text": [
      "C:\\Users\\ebrahim\\AppData\\Local\\Temp\\ipykernel_11364\\1983394112.py:1: SettingWithCopyWarning: \n",
      "A value is trying to be set on a copy of a slice from a DataFrame.\n",
      "Try using .loc[row_indexer,col_indexer] = value instead\n",
      "\n",
      "See the caveats in the documentation: https://pandas.pydata.org/pandas-docs/stable/user_guide/indexing.html#returning-a-view-versus-a-copy\n",
      "  data['gender_encoded'] = le.fit_transform(data['gender'])\n"
     ]
    }
   ],
   "source": [
    "data['gender_encoded'] = le.fit_transform(data['gender'])"
   ]
  },
  {
   "cell_type": "code",
   "execution_count": 191,
   "id": "7b616b1a-9062-44df-b4bb-124383cce075",
   "metadata": {},
   "outputs": [],
   "source": [
    "data_cleaned = data.drop(columns=['customer_id'])"
   ]
  },
  {
   "cell_type": "code",
   "execution_count": 192,
   "id": "b21c7c18-1345-4047-a93a-abceaa86d181",
   "metadata": {},
   "outputs": [],
   "source": [
    "data_cleaned = data_cleaned[['gender_encoded', 'Sales Amount']]"
   ]
  },
  {
   "cell_type": "code",
   "execution_count": 193,
   "id": "95461520-0d6d-4a0c-8a10-0d1a62589a11",
   "metadata": {},
   "outputs": [
    {
     "name": "stdout",
     "output_type": "stream",
     "text": [
      "   gender_encoded  Sales Amount\n",
      "0               0         62500\n",
      "1               1         67500\n",
      "2               1          7000\n",
      "3               0        356500\n",
      "4               0         12200\n"
     ]
    }
   ],
   "source": [
    "print(data_cleaned.head())"
   ]
  },
  {
   "cell_type": "code",
   "execution_count": 194,
   "id": "df96ac1a-7d05-4245-bb50-a69421f8e3e9",
   "metadata": {},
   "outputs": [],
   "source": [
    "from sklearn.cluster import KMeans"
   ]
  },
  {
   "cell_type": "code",
   "execution_count": 195,
   "id": "4ffe2ce9-1c3a-4cff-b5b3-c21316296f94",
   "metadata": {},
   "outputs": [],
   "source": [
    "kmeans = KMeans(n_clusters=3)"
   ]
  },
  {
   "cell_type": "code",
   "execution_count": 196,
   "id": "a4d48420-c922-49bb-a2c8-3f45b6925303",
   "metadata": {},
   "outputs": [
    {
     "data": {
      "text/html": [
       "<style>#sk-container-id-3 {\n",
       "  /* Definition of color scheme common for light and dark mode */\n",
       "  --sklearn-color-text: black;\n",
       "  --sklearn-color-line: gray;\n",
       "  /* Definition of color scheme for unfitted estimators */\n",
       "  --sklearn-color-unfitted-level-0: #fff5e6;\n",
       "  --sklearn-color-unfitted-level-1: #f6e4d2;\n",
       "  --sklearn-color-unfitted-level-2: #ffe0b3;\n",
       "  --sklearn-color-unfitted-level-3: chocolate;\n",
       "  /* Definition of color scheme for fitted estimators */\n",
       "  --sklearn-color-fitted-level-0: #f0f8ff;\n",
       "  --sklearn-color-fitted-level-1: #d4ebff;\n",
       "  --sklearn-color-fitted-level-2: #b3dbfd;\n",
       "  --sklearn-color-fitted-level-3: cornflowerblue;\n",
       "\n",
       "  /* Specific color for light theme */\n",
       "  --sklearn-color-text-on-default-background: var(--sg-text-color, var(--theme-code-foreground, var(--jp-content-font-color1, black)));\n",
       "  --sklearn-color-background: var(--sg-background-color, var(--theme-background, var(--jp-layout-color0, white)));\n",
       "  --sklearn-color-border-box: var(--sg-text-color, var(--theme-code-foreground, var(--jp-content-font-color1, black)));\n",
       "  --sklearn-color-icon: #696969;\n",
       "\n",
       "  @media (prefers-color-scheme: dark) {\n",
       "    /* Redefinition of color scheme for dark theme */\n",
       "    --sklearn-color-text-on-default-background: var(--sg-text-color, var(--theme-code-foreground, var(--jp-content-font-color1, white)));\n",
       "    --sklearn-color-background: var(--sg-background-color, var(--theme-background, var(--jp-layout-color0, #111)));\n",
       "    --sklearn-color-border-box: var(--sg-text-color, var(--theme-code-foreground, var(--jp-content-font-color1, white)));\n",
       "    --sklearn-color-icon: #878787;\n",
       "  }\n",
       "}\n",
       "\n",
       "#sk-container-id-3 {\n",
       "  color: var(--sklearn-color-text);\n",
       "}\n",
       "\n",
       "#sk-container-id-3 pre {\n",
       "  padding: 0;\n",
       "}\n",
       "\n",
       "#sk-container-id-3 input.sk-hidden--visually {\n",
       "  border: 0;\n",
       "  clip: rect(1px 1px 1px 1px);\n",
       "  clip: rect(1px, 1px, 1px, 1px);\n",
       "  height: 1px;\n",
       "  margin: -1px;\n",
       "  overflow: hidden;\n",
       "  padding: 0;\n",
       "  position: absolute;\n",
       "  width: 1px;\n",
       "}\n",
       "\n",
       "#sk-container-id-3 div.sk-dashed-wrapped {\n",
       "  border: 1px dashed var(--sklearn-color-line);\n",
       "  margin: 0 0.4em 0.5em 0.4em;\n",
       "  box-sizing: border-box;\n",
       "  padding-bottom: 0.4em;\n",
       "  background-color: var(--sklearn-color-background);\n",
       "}\n",
       "\n",
       "#sk-container-id-3 div.sk-container {\n",
       "  /* jupyter's `normalize.less` sets `[hidden] { display: none; }`\n",
       "     but bootstrap.min.css set `[hidden] { display: none !important; }`\n",
       "     so we also need the `!important` here to be able to override the\n",
       "     default hidden behavior on the sphinx rendered scikit-learn.org.\n",
       "     See: https://github.com/scikit-learn/scikit-learn/issues/21755 */\n",
       "  display: inline-block !important;\n",
       "  position: relative;\n",
       "}\n",
       "\n",
       "#sk-container-id-3 div.sk-text-repr-fallback {\n",
       "  display: none;\n",
       "}\n",
       "\n",
       "div.sk-parallel-item,\n",
       "div.sk-serial,\n",
       "div.sk-item {\n",
       "  /* draw centered vertical line to link estimators */\n",
       "  background-image: linear-gradient(var(--sklearn-color-text-on-default-background), var(--sklearn-color-text-on-default-background));\n",
       "  background-size: 2px 100%;\n",
       "  background-repeat: no-repeat;\n",
       "  background-position: center center;\n",
       "}\n",
       "\n",
       "/* Parallel-specific style estimator block */\n",
       "\n",
       "#sk-container-id-3 div.sk-parallel-item::after {\n",
       "  content: \"\";\n",
       "  width: 100%;\n",
       "  border-bottom: 2px solid var(--sklearn-color-text-on-default-background);\n",
       "  flex-grow: 1;\n",
       "}\n",
       "\n",
       "#sk-container-id-3 div.sk-parallel {\n",
       "  display: flex;\n",
       "  align-items: stretch;\n",
       "  justify-content: center;\n",
       "  background-color: var(--sklearn-color-background);\n",
       "  position: relative;\n",
       "}\n",
       "\n",
       "#sk-container-id-3 div.sk-parallel-item {\n",
       "  display: flex;\n",
       "  flex-direction: column;\n",
       "}\n",
       "\n",
       "#sk-container-id-3 div.sk-parallel-item:first-child::after {\n",
       "  align-self: flex-end;\n",
       "  width: 50%;\n",
       "}\n",
       "\n",
       "#sk-container-id-3 div.sk-parallel-item:last-child::after {\n",
       "  align-self: flex-start;\n",
       "  width: 50%;\n",
       "}\n",
       "\n",
       "#sk-container-id-3 div.sk-parallel-item:only-child::after {\n",
       "  width: 0;\n",
       "}\n",
       "\n",
       "/* Serial-specific style estimator block */\n",
       "\n",
       "#sk-container-id-3 div.sk-serial {\n",
       "  display: flex;\n",
       "  flex-direction: column;\n",
       "  align-items: center;\n",
       "  background-color: var(--sklearn-color-background);\n",
       "  padding-right: 1em;\n",
       "  padding-left: 1em;\n",
       "}\n",
       "\n",
       "\n",
       "/* Toggleable style: style used for estimator/Pipeline/ColumnTransformer box that is\n",
       "clickable and can be expanded/collapsed.\n",
       "- Pipeline and ColumnTransformer use this feature and define the default style\n",
       "- Estimators will overwrite some part of the style using the `sk-estimator` class\n",
       "*/\n",
       "\n",
       "/* Pipeline and ColumnTransformer style (default) */\n",
       "\n",
       "#sk-container-id-3 div.sk-toggleable {\n",
       "  /* Default theme specific background. It is overwritten whether we have a\n",
       "  specific estimator or a Pipeline/ColumnTransformer */\n",
       "  background-color: var(--sklearn-color-background);\n",
       "}\n",
       "\n",
       "/* Toggleable label */\n",
       "#sk-container-id-3 label.sk-toggleable__label {\n",
       "  cursor: pointer;\n",
       "  display: block;\n",
       "  width: 100%;\n",
       "  margin-bottom: 0;\n",
       "  padding: 0.5em;\n",
       "  box-sizing: border-box;\n",
       "  text-align: center;\n",
       "}\n",
       "\n",
       "#sk-container-id-3 label.sk-toggleable__label-arrow:before {\n",
       "  /* Arrow on the left of the label */\n",
       "  content: \"▸\";\n",
       "  float: left;\n",
       "  margin-right: 0.25em;\n",
       "  color: var(--sklearn-color-icon);\n",
       "}\n",
       "\n",
       "#sk-container-id-3 label.sk-toggleable__label-arrow:hover:before {\n",
       "  color: var(--sklearn-color-text);\n",
       "}\n",
       "\n",
       "/* Toggleable content - dropdown */\n",
       "\n",
       "#sk-container-id-3 div.sk-toggleable__content {\n",
       "  max-height: 0;\n",
       "  max-width: 0;\n",
       "  overflow: hidden;\n",
       "  text-align: left;\n",
       "  /* unfitted */\n",
       "  background-color: var(--sklearn-color-unfitted-level-0);\n",
       "}\n",
       "\n",
       "#sk-container-id-3 div.sk-toggleable__content.fitted {\n",
       "  /* fitted */\n",
       "  background-color: var(--sklearn-color-fitted-level-0);\n",
       "}\n",
       "\n",
       "#sk-container-id-3 div.sk-toggleable__content pre {\n",
       "  margin: 0.2em;\n",
       "  border-radius: 0.25em;\n",
       "  color: var(--sklearn-color-text);\n",
       "  /* unfitted */\n",
       "  background-color: var(--sklearn-color-unfitted-level-0);\n",
       "}\n",
       "\n",
       "#sk-container-id-3 div.sk-toggleable__content.fitted pre {\n",
       "  /* unfitted */\n",
       "  background-color: var(--sklearn-color-fitted-level-0);\n",
       "}\n",
       "\n",
       "#sk-container-id-3 input.sk-toggleable__control:checked~div.sk-toggleable__content {\n",
       "  /* Expand drop-down */\n",
       "  max-height: 200px;\n",
       "  max-width: 100%;\n",
       "  overflow: auto;\n",
       "}\n",
       "\n",
       "#sk-container-id-3 input.sk-toggleable__control:checked~label.sk-toggleable__label-arrow:before {\n",
       "  content: \"▾\";\n",
       "}\n",
       "\n",
       "/* Pipeline/ColumnTransformer-specific style */\n",
       "\n",
       "#sk-container-id-3 div.sk-label input.sk-toggleable__control:checked~label.sk-toggleable__label {\n",
       "  color: var(--sklearn-color-text);\n",
       "  background-color: var(--sklearn-color-unfitted-level-2);\n",
       "}\n",
       "\n",
       "#sk-container-id-3 div.sk-label.fitted input.sk-toggleable__control:checked~label.sk-toggleable__label {\n",
       "  background-color: var(--sklearn-color-fitted-level-2);\n",
       "}\n",
       "\n",
       "/* Estimator-specific style */\n",
       "\n",
       "/* Colorize estimator box */\n",
       "#sk-container-id-3 div.sk-estimator input.sk-toggleable__control:checked~label.sk-toggleable__label {\n",
       "  /* unfitted */\n",
       "  background-color: var(--sklearn-color-unfitted-level-2);\n",
       "}\n",
       "\n",
       "#sk-container-id-3 div.sk-estimator.fitted input.sk-toggleable__control:checked~label.sk-toggleable__label {\n",
       "  /* fitted */\n",
       "  background-color: var(--sklearn-color-fitted-level-2);\n",
       "}\n",
       "\n",
       "#sk-container-id-3 div.sk-label label.sk-toggleable__label,\n",
       "#sk-container-id-3 div.sk-label label {\n",
       "  /* The background is the default theme color */\n",
       "  color: var(--sklearn-color-text-on-default-background);\n",
       "}\n",
       "\n",
       "/* On hover, darken the color of the background */\n",
       "#sk-container-id-3 div.sk-label:hover label.sk-toggleable__label {\n",
       "  color: var(--sklearn-color-text);\n",
       "  background-color: var(--sklearn-color-unfitted-level-2);\n",
       "}\n",
       "\n",
       "/* Label box, darken color on hover, fitted */\n",
       "#sk-container-id-3 div.sk-label.fitted:hover label.sk-toggleable__label.fitted {\n",
       "  color: var(--sklearn-color-text);\n",
       "  background-color: var(--sklearn-color-fitted-level-2);\n",
       "}\n",
       "\n",
       "/* Estimator label */\n",
       "\n",
       "#sk-container-id-3 div.sk-label label {\n",
       "  font-family: monospace;\n",
       "  font-weight: bold;\n",
       "  display: inline-block;\n",
       "  line-height: 1.2em;\n",
       "}\n",
       "\n",
       "#sk-container-id-3 div.sk-label-container {\n",
       "  text-align: center;\n",
       "}\n",
       "\n",
       "/* Estimator-specific */\n",
       "#sk-container-id-3 div.sk-estimator {\n",
       "  font-family: monospace;\n",
       "  border: 1px dotted var(--sklearn-color-border-box);\n",
       "  border-radius: 0.25em;\n",
       "  box-sizing: border-box;\n",
       "  margin-bottom: 0.5em;\n",
       "  /* unfitted */\n",
       "  background-color: var(--sklearn-color-unfitted-level-0);\n",
       "}\n",
       "\n",
       "#sk-container-id-3 div.sk-estimator.fitted {\n",
       "  /* fitted */\n",
       "  background-color: var(--sklearn-color-fitted-level-0);\n",
       "}\n",
       "\n",
       "/* on hover */\n",
       "#sk-container-id-3 div.sk-estimator:hover {\n",
       "  /* unfitted */\n",
       "  background-color: var(--sklearn-color-unfitted-level-2);\n",
       "}\n",
       "\n",
       "#sk-container-id-3 div.sk-estimator.fitted:hover {\n",
       "  /* fitted */\n",
       "  background-color: var(--sklearn-color-fitted-level-2);\n",
       "}\n",
       "\n",
       "/* Specification for estimator info (e.g. \"i\" and \"?\") */\n",
       "\n",
       "/* Common style for \"i\" and \"?\" */\n",
       "\n",
       ".sk-estimator-doc-link,\n",
       "a:link.sk-estimator-doc-link,\n",
       "a:visited.sk-estimator-doc-link {\n",
       "  float: right;\n",
       "  font-size: smaller;\n",
       "  line-height: 1em;\n",
       "  font-family: monospace;\n",
       "  background-color: var(--sklearn-color-background);\n",
       "  border-radius: 1em;\n",
       "  height: 1em;\n",
       "  width: 1em;\n",
       "  text-decoration: none !important;\n",
       "  margin-left: 1ex;\n",
       "  /* unfitted */\n",
       "  border: var(--sklearn-color-unfitted-level-1) 1pt solid;\n",
       "  color: var(--sklearn-color-unfitted-level-1);\n",
       "}\n",
       "\n",
       ".sk-estimator-doc-link.fitted,\n",
       "a:link.sk-estimator-doc-link.fitted,\n",
       "a:visited.sk-estimator-doc-link.fitted {\n",
       "  /* fitted */\n",
       "  border: var(--sklearn-color-fitted-level-1) 1pt solid;\n",
       "  color: var(--sklearn-color-fitted-level-1);\n",
       "}\n",
       "\n",
       "/* On hover */\n",
       "div.sk-estimator:hover .sk-estimator-doc-link:hover,\n",
       ".sk-estimator-doc-link:hover,\n",
       "div.sk-label-container:hover .sk-estimator-doc-link:hover,\n",
       ".sk-estimator-doc-link:hover {\n",
       "  /* unfitted */\n",
       "  background-color: var(--sklearn-color-unfitted-level-3);\n",
       "  color: var(--sklearn-color-background);\n",
       "  text-decoration: none;\n",
       "}\n",
       "\n",
       "div.sk-estimator.fitted:hover .sk-estimator-doc-link.fitted:hover,\n",
       ".sk-estimator-doc-link.fitted:hover,\n",
       "div.sk-label-container:hover .sk-estimator-doc-link.fitted:hover,\n",
       ".sk-estimator-doc-link.fitted:hover {\n",
       "  /* fitted */\n",
       "  background-color: var(--sklearn-color-fitted-level-3);\n",
       "  color: var(--sklearn-color-background);\n",
       "  text-decoration: none;\n",
       "}\n",
       "\n",
       "/* Span, style for the box shown on hovering the info icon */\n",
       ".sk-estimator-doc-link span {\n",
       "  display: none;\n",
       "  z-index: 9999;\n",
       "  position: relative;\n",
       "  font-weight: normal;\n",
       "  right: .2ex;\n",
       "  padding: .5ex;\n",
       "  margin: .5ex;\n",
       "  width: min-content;\n",
       "  min-width: 20ex;\n",
       "  max-width: 50ex;\n",
       "  color: var(--sklearn-color-text);\n",
       "  box-shadow: 2pt 2pt 4pt #999;\n",
       "  /* unfitted */\n",
       "  background: var(--sklearn-color-unfitted-level-0);\n",
       "  border: .5pt solid var(--sklearn-color-unfitted-level-3);\n",
       "}\n",
       "\n",
       ".sk-estimator-doc-link.fitted span {\n",
       "  /* fitted */\n",
       "  background: var(--sklearn-color-fitted-level-0);\n",
       "  border: var(--sklearn-color-fitted-level-3);\n",
       "}\n",
       "\n",
       ".sk-estimator-doc-link:hover span {\n",
       "  display: block;\n",
       "}\n",
       "\n",
       "/* \"?\"-specific style due to the `<a>` HTML tag */\n",
       "\n",
       "#sk-container-id-3 a.estimator_doc_link {\n",
       "  float: right;\n",
       "  font-size: 1rem;\n",
       "  line-height: 1em;\n",
       "  font-family: monospace;\n",
       "  background-color: var(--sklearn-color-background);\n",
       "  border-radius: 1rem;\n",
       "  height: 1rem;\n",
       "  width: 1rem;\n",
       "  text-decoration: none;\n",
       "  /* unfitted */\n",
       "  color: var(--sklearn-color-unfitted-level-1);\n",
       "  border: var(--sklearn-color-unfitted-level-1) 1pt solid;\n",
       "}\n",
       "\n",
       "#sk-container-id-3 a.estimator_doc_link.fitted {\n",
       "  /* fitted */\n",
       "  border: var(--sklearn-color-fitted-level-1) 1pt solid;\n",
       "  color: var(--sklearn-color-fitted-level-1);\n",
       "}\n",
       "\n",
       "/* On hover */\n",
       "#sk-container-id-3 a.estimator_doc_link:hover {\n",
       "  /* unfitted */\n",
       "  background-color: var(--sklearn-color-unfitted-level-3);\n",
       "  color: var(--sklearn-color-background);\n",
       "  text-decoration: none;\n",
       "}\n",
       "\n",
       "#sk-container-id-3 a.estimator_doc_link.fitted:hover {\n",
       "  /* fitted */\n",
       "  background-color: var(--sklearn-color-fitted-level-3);\n",
       "}\n",
       "</style><div id=\"sk-container-id-3\" class=\"sk-top-container\"><div class=\"sk-text-repr-fallback\"><pre>KMeans(n_clusters=3)</pre><b>In a Jupyter environment, please rerun this cell to show the HTML representation or trust the notebook. <br />On GitHub, the HTML representation is unable to render, please try loading this page with nbviewer.org.</b></div><div class=\"sk-container\" hidden><div class=\"sk-item\"><div class=\"sk-estimator fitted sk-toggleable\"><input class=\"sk-toggleable__control sk-hidden--visually\" id=\"sk-estimator-id-3\" type=\"checkbox\" checked><label for=\"sk-estimator-id-3\" class=\"sk-toggleable__label fitted sk-toggleable__label-arrow fitted\">&nbsp;&nbsp;KMeans<a class=\"sk-estimator-doc-link fitted\" rel=\"noreferrer\" target=\"_blank\" href=\"https://scikit-learn.org/1.5/modules/generated/sklearn.cluster.KMeans.html\">?<span>Documentation for KMeans</span></a><span class=\"sk-estimator-doc-link fitted\">i<span>Fitted</span></span></label><div class=\"sk-toggleable__content fitted\"><pre>KMeans(n_clusters=3)</pre></div> </div></div></div></div>"
      ],
      "text/plain": [
       "KMeans(n_clusters=3)"
      ]
     },
     "execution_count": 196,
     "metadata": {},
     "output_type": "execute_result"
    }
   ],
   "source": [
    "kmeans.fit(data_cleaned)"
   ]
  },
  {
   "cell_type": "code",
   "execution_count": 197,
   "id": "71e4db20-0f8f-463a-b218-9f1a69c7c9cc",
   "metadata": {},
   "outputs": [
    {
     "name": "stderr",
     "output_type": "stream",
     "text": [
      "C:\\Users\\ebrahim\\AppData\\Local\\Temp\\ipykernel_11364\\2904036212.py:1: SettingWithCopyWarning: \n",
      "A value is trying to be set on a copy of a slice from a DataFrame.\n",
      "Try using .loc[row_indexer,col_indexer] = value instead\n",
      "\n",
      "See the caveats in the documentation: https://pandas.pydata.org/pandas-docs/stable/user_guide/indexing.html#returning-a-view-versus-a-copy\n",
      "  data['Cluster'] = kmeans.labels_\n"
     ]
    }
   ],
   "source": [
    "data['Cluster'] = kmeans.labels_"
   ]
  },
  {
   "cell_type": "code",
   "execution_count": 198,
   "id": "860366e4-b6fb-4ca3-aae9-866f85817181",
   "metadata": {},
   "outputs": [
    {
     "name": "stdout",
     "output_type": "stream",
     "text": [
      "  customer_id  gender  Sales Amount  gender_encoded  Cluster\n",
      "0     C241288  Female         62500               0        1\n",
      "1     C111565    Male         67500               1        1\n",
      "2     C266599    Male          7000               1        1\n",
      "3     C988172  Female        356500               0        2\n",
      "4     C189076  Female         12200               0        1\n"
     ]
    }
   ],
   "source": [
    "print(data.head())"
   ]
  },
  {
   "cell_type": "code",
   "execution_count": 199,
   "id": "83f88370-f29a-4df4-96be-6182752b4a32",
   "metadata": {},
   "outputs": [],
   "source": [
    "clusters = kmeans.predict(data_cleaned)"
   ]
  },
  {
   "cell_type": "code",
   "execution_count": 200,
   "id": "002d41ad-787a-4968-9a90-d161a3453f19",
   "metadata": {},
   "outputs": [],
   "source": [
    "data_cleaned['cluster'] = clusters"
   ]
  },
  {
   "cell_type": "code",
   "execution_count": 201,
   "id": "135ea3d2-f672-4edd-872d-0f68d596831e",
   "metadata": {},
   "outputs": [
    {
     "name": "stdout",
     "output_type": "stream",
     "text": [
      "[[3.98551841e-01 6.01758418e+05]\n",
      " [4.03573672e-01 5.87197061e+04]\n",
      " [3.96967655e-01 3.19779764e+05]]\n"
     ]
    }
   ],
   "source": [
    "print(kmeans.cluster_centers_)"
   ]
  },
  {
   "cell_type": "code",
   "execution_count": 202,
   "id": "9cda15d8-542d-47d6-b9b2-edc1ffa832cb",
   "metadata": {},
   "outputs": [
    {
     "name": "stdout",
     "output_type": "stream",
     "text": [
      "0        1\n",
      "1        1\n",
      "2        1\n",
      "3        2\n",
      "4        1\n",
      "        ..\n",
      "99452    1\n",
      "99453    1\n",
      "99454    1\n",
      "99455    1\n",
      "99456    1\n",
      "Name: cluster, Length: 99457, dtype: int32\n"
     ]
    }
   ],
   "source": [
    "print(data_cleaned['cluster'])"
   ]
  },
  {
   "cell_type": "code",
   "execution_count": 12,
   "id": "00ef3e60-c477-4935-a400-b57d770d0cbd",
   "metadata": {},
   "outputs": [
    {
     "data": {
      "image/png": "[encoded data removed]",
      "text/plain": [
       "<Figure size 800x600 with 1 Axes>"
      ]
     },
     "metadata": {},
     "output_type": "display_data"
    }
   ],
   "source": [
    "gender_segments= data['gender'].value_counts()\n",
    "plt.figure(figsize=(8,6))\n",
    "gender_segments.plot(kind='bar')\n",
    "plt.title('Customer Segmentation by Gender')\n",
    "plt.xlabel('Gender')\n",
    "plt.ylabel('Count')\n",
    "plt.show()"
   ]
  },
  {
   "cell_type": "code",
   "execution_count": 13,
   "id": "75f313e4-0713-480b-96c6-e493516c6bba",
   "metadata": {},
   "outputs": [],
   "source": [
    "high_spenders=data[data['transaction_value']>1000]\n",
    "medium_spenders=data[(data['transaction_value']>=500) &\n",
    "(data['transaction_value']<=1000)]\n",
    "bargain_shoppers= data[data['transaction_value']<500]"
   ]
  },
  {
   "cell_type": "code",
   "execution_count": 14,
   "id": "8eb95550-1e12-4512-b78e-b95e6bf09961",
   "metadata": {},
   "outputs": [
    {
     "data": {
      "image/png": "[encoded data removed]",
      "text/plain": [
       "<Figure size 800x600 with 1 Axes>"
      ]
     },
     "metadata": {},
     "output_type": "display_data"
    }
   ],
   "source": [
    "plt.figure(figsize=(8,6))\n",
    "plt.bar('High Spenders',len(high_spenders),color='blue')\n",
    "plt.bar('Medium Spenders',len(medium_spenders),color='orange')\n",
    "plt.bar('Bargain Shoppers',len(bargain_shoppers),color='green')\n",
    "plt.title('Spending Categories')\n",
    "plt.xlabel('Category')\n",
    "plt.ylabel('Number of Customers')\n",
    "plt.show()"
   ]
  },
  {
   "cell_type": "code",
   "execution_count": null,
   "id": "03d8925a-157c-4eaa-87f4-2e0e1f1fb9d3",
   "metadata": {},
   "outputs": [],
   "source": [
    "SALES BY MALL"
   ]
  },
  {
   "cell_type": "code",
   "execution_count": 203,
   "id": "2a540588-9c4c-4d12-82bc-b2b84f063a94",
   "metadata": {},
   "outputs": [],
   "source": [
    "import pandas as pd"
   ]
  },
  {
   "cell_type": "code",
   "execution_count": 204,
   "id": "7221b86f-8e41-4f70-becb-0a48506c489a",
   "metadata": {},
   "outputs": [],
   "source": [
    "import matplotlib.pyplot as plt\n",
    "%matplotlib inline"
   ]
  },
  {
   "cell_type": "code",
   "execution_count": 232,
   "id": "aa0f1c86-32e1-4d5a-9a9d-b1d8c83bf4d4",
   "metadata": {},
   "outputs": [],
   "source": [
    "data = pd.read_excel(r'\\\\Mac\\Home\\Desktop\\Roban_Stores_ Dataset.xls')"
   ]
  },
  {
   "cell_type": "code",
   "execution_count": 233,
   "id": "7accd359-d4ae-4584-84de-1549aa36063c",
   "metadata": {},
   "outputs": [
    {
     "data": {
      "text/html": [
       "<div>\n",
       "<style scoped>\n",
       "    .dataframe tbody tr th:only-of-type {\n",
       "        vertical-align: middle;\n",
       "    }\n",
       "\n",
       "    .dataframe tbody tr th {\n",
       "        vertical-align: top;\n",
       "    }\n",
       "\n",
       "    .dataframe thead th {\n",
       "        text-align: right;\n",
       "    }\n",
       "</style>\n",
       "<table border=\"1\" class=\"dataframe\">\n",
       "  <thead>\n",
       "    <tr style=\"text-align: right;\">\n",
       "      <th></th>\n",
       "      <th>invoice_no</th>\n",
       "      <th>customer_id</th>\n",
       "      <th>gender</th>\n",
       "      <th>category</th>\n",
       "      <th>quantity</th>\n",
       "      <th>price</th>\n",
       "      <th>Sales Amount</th>\n",
       "      <th>payment_method</th>\n",
       "      <th>invoice_date</th>\n",
       "      <th>shopping_mall</th>\n",
       "    </tr>\n",
       "  </thead>\n",
       "  <tbody>\n",
       "    <tr>\n",
       "      <th>0</th>\n",
       "      <td>I138884</td>\n",
       "      <td>C241288</td>\n",
       "      <td>Female</td>\n",
       "      <td>fashion</td>\n",
       "      <td>5</td>\n",
       "      <td>12500</td>\n",
       "      <td>62500</td>\n",
       "      <td>Credit Card</td>\n",
       "      <td>2022-08-05</td>\n",
       "      <td>Trans - Ekulu</td>\n",
       "    </tr>\n",
       "    <tr>\n",
       "      <th>1</th>\n",
       "      <td>I317333</td>\n",
       "      <td>C111565</td>\n",
       "      <td>Male</td>\n",
       "      <td>fashion</td>\n",
       "      <td>3</td>\n",
       "      <td>22500</td>\n",
       "      <td>67500</td>\n",
       "      <td>Roban Gift Card</td>\n",
       "      <td>2021-12-12</td>\n",
       "      <td>Nnewi Mall</td>\n",
       "    </tr>\n",
       "    <tr>\n",
       "      <th>2</th>\n",
       "      <td>I127801</td>\n",
       "      <td>C266599</td>\n",
       "      <td>Male</td>\n",
       "      <td>fashion</td>\n",
       "      <td>1</td>\n",
       "      <td>7000</td>\n",
       "      <td>7000</td>\n",
       "      <td>Cash</td>\n",
       "      <td>2021-11-09</td>\n",
       "      <td>independence layout</td>\n",
       "    </tr>\n",
       "    <tr>\n",
       "      <th>3</th>\n",
       "      <td>I173702</td>\n",
       "      <td>C988172</td>\n",
       "      <td>Female</td>\n",
       "      <td>fashion</td>\n",
       "      <td>5</td>\n",
       "      <td>71300</td>\n",
       "      <td>356500</td>\n",
       "      <td>Credit Card</td>\n",
       "      <td>2021-05-16</td>\n",
       "      <td>Awka Mall</td>\n",
       "    </tr>\n",
       "    <tr>\n",
       "      <th>4</th>\n",
       "      <td>I337046</td>\n",
       "      <td>C189076</td>\n",
       "      <td>Female</td>\n",
       "      <td>bakerys</td>\n",
       "      <td>4</td>\n",
       "      <td>3050</td>\n",
       "      <td>12200</td>\n",
       "      <td>Cash</td>\n",
       "      <td>2021-10-24</td>\n",
       "      <td>Trans - Ekulu</td>\n",
       "    </tr>\n",
       "    <tr>\n",
       "      <th>...</th>\n",
       "      <td>...</td>\n",
       "      <td>...</td>\n",
       "      <td>...</td>\n",
       "      <td>...</td>\n",
       "      <td>...</td>\n",
       "      <td>...</td>\n",
       "      <td>...</td>\n",
       "      <td>...</td>\n",
       "      <td>...</td>\n",
       "      <td>...</td>\n",
       "    </tr>\n",
       "    <tr>\n",
       "      <th>99452</th>\n",
       "      <td>I219422</td>\n",
       "      <td>C441542</td>\n",
       "      <td>Female</td>\n",
       "      <td>fruits &amp; vegetable</td>\n",
       "      <td>5</td>\n",
       "      <td>3720</td>\n",
       "      <td>18600</td>\n",
       "      <td>Credit Card</td>\n",
       "      <td>2022-09-21</td>\n",
       "      <td>Trans - Ekulu</td>\n",
       "    </tr>\n",
       "    <tr>\n",
       "      <th>99453</th>\n",
       "      <td>I325143</td>\n",
       "      <td>C569580</td>\n",
       "      <td>Male</td>\n",
       "      <td>Food &amp; Beverage</td>\n",
       "      <td>2</td>\n",
       "      <td>5500</td>\n",
       "      <td>11000</td>\n",
       "      <td>Cash</td>\n",
       "      <td>2021-09-22</td>\n",
       "      <td>Nnewi Mall</td>\n",
       "    </tr>\n",
       "    <tr>\n",
       "      <th>99454</th>\n",
       "      <td>I824010</td>\n",
       "      <td>C103292</td>\n",
       "      <td>Male</td>\n",
       "      <td>Food &amp; Beverage</td>\n",
       "      <td>2</td>\n",
       "      <td>5500</td>\n",
       "      <td>11000</td>\n",
       "      <td>Roban Gift Card</td>\n",
       "      <td>2021-03-28</td>\n",
       "      <td>independence layout</td>\n",
       "    </tr>\n",
       "    <tr>\n",
       "      <th>99455</th>\n",
       "      <td>I702964</td>\n",
       "      <td>C800631</td>\n",
       "      <td>Male</td>\n",
       "      <td>household</td>\n",
       "      <td>4</td>\n",
       "      <td>4200</td>\n",
       "      <td>16800</td>\n",
       "      <td>Cash</td>\n",
       "      <td>2021-03-16</td>\n",
       "      <td>Nike Lake Mall</td>\n",
       "    </tr>\n",
       "    <tr>\n",
       "      <th>99456</th>\n",
       "      <td>I232867</td>\n",
       "      <td>C273973</td>\n",
       "      <td>Female</td>\n",
       "      <td>fruits &amp; vegetable</td>\n",
       "      <td>3</td>\n",
       "      <td>5300</td>\n",
       "      <td>15900</td>\n",
       "      <td>Credit Card</td>\n",
       "      <td>2022-10-15</td>\n",
       "      <td>Agbani Mall</td>\n",
       "    </tr>\n",
       "  </tbody>\n",
       "</table>\n",
       "<p>99457 rows × 10 columns</p>\n",
       "</div>"
      ],
      "text/plain": [
       "      invoice_no customer_id  gender            category  quantity  price  \\\n",
       "0        I138884     C241288  Female             fashion         5  12500   \n",
       "1        I317333     C111565    Male             fashion         3  22500   \n",
       "2        I127801     C266599    Male             fashion         1   7000   \n",
       "3        I173702     C988172  Female             fashion         5  71300   \n",
       "4        I337046     C189076  Female             bakerys         4   3050   \n",
       "...          ...         ...     ...                 ...       ...    ...   \n",
       "99452    I219422     C441542  Female  fruits & vegetable         5   3720   \n",
       "99453    I325143     C569580    Male     Food & Beverage         2   5500   \n",
       "99454    I824010     C103292    Male     Food & Beverage         2   5500   \n",
       "99455    I702964     C800631    Male           household         4   4200   \n",
       "99456    I232867     C273973  Female  fruits & vegetable         3   5300   \n",
       "\n",
       "       Sales Amount   payment_method invoice_date        shopping_mall  \n",
       "0             62500      Credit Card   2022-08-05        Trans - Ekulu  \n",
       "1             67500  Roban Gift Card   2021-12-12           Nnewi Mall  \n",
       "2              7000             Cash   2021-11-09  independence layout  \n",
       "3            356500      Credit Card   2021-05-16            Awka Mall  \n",
       "4             12200             Cash   2021-10-24        Trans - Ekulu  \n",
       "...             ...              ...          ...                  ...  \n",
       "99452         18600      Credit Card   2022-09-21        Trans - Ekulu  \n",
       "99453         11000             Cash   2021-09-22           Nnewi Mall  \n",
       "99454         11000  Roban Gift Card   2021-03-28  independence layout  \n",
       "99455         16800             Cash   2021-03-16       Nike Lake Mall  \n",
       "99456         15900      Credit Card   2022-10-15          Agbani Mall  \n",
       "\n",
       "[99457 rows x 10 columns]"
      ]
     },
     "execution_count": 233,
     "metadata": {},
     "output_type": "execute_result"
    }
   ],
   "source": [
    "data"
   ]
  },
  {
   "cell_type": "code",
   "execution_count": 234,
   "id": "ed8d7774-17f7-4e89-95e6-a0819ee08875",
   "metadata": {},
   "outputs": [],
   "source": [
    "sales_volume = data.groupby('shopping_mall')['Sales Amount'].sum()"
   ]
  },
  {
   "cell_type": "code",
   "execution_count": 235,
   "id": "2be47d74-fe16-4a35-bca6-70bed7cc0725",
   "metadata": {},
   "outputs": [
    {
     "data": {
      "text/plain": [
       "<BarContainer object of 8 artists>"
      ]
     },
     "execution_count": 235,
     "metadata": {},
     "output_type": "execute_result"
    }
   ],
   "source": [
    "plt.bar(sales_volume.index, sales_volume.values)"
   ]
  },
  {
   "cell_type": "code",
   "execution_count": 236,
   "id": "8c7b1217-b4c1-43f5-939c-7b4c955704d1",
   "metadata": {},
   "outputs": [
    {
     "data": {
      "text/plain": [
       "Text(42.597222222222214, 0.5, 'Amount')"
      ]
     },
     "execution_count": 236,
     "metadata": {},
     "output_type": "execute_result"
    }
   ],
   "source": [
    "plt.title('Sales by shopping_mall')\n",
    "plt.xlabel('shopping_mall')\n",
    "plt.ylabel('Amount')"
   ]
  },
  {
   "cell_type": "code",
   "execution_count": 237,
   "id": "b00287af-2ec0-4e7a-bd0f-4457351b3ac2",
   "metadata": {},
   "outputs": [
    {
     "data": {
      "text/plain": [
       "([0, 1, 2, 3, 4, 5, 6, 7],\n",
       " [Text(0, 0, 'Abakaliki Mall'),\n",
       "  Text(1, 0, 'Agbani Mall'),\n",
       "  Text(2, 0, 'Asaba Mall'),\n",
       "  Text(3, 0, 'Awka Mall'),\n",
       "  Text(4, 0, 'Nike Lake Mall'),\n",
       "  Text(5, 0, 'Nnewi Mall'),\n",
       "  Text(6, 0, 'Trans - Ekulu'),\n",
       "  Text(7, 0, 'independence layout')])"
      ]
     },
     "execution_count": 237,
     "metadata": {},
     "output_type": "execute_result"
    }
   ],
   "source": [
    "plt.xticks(rotation=30)"
   ]
  },
  {
   "cell_type": "code",
   "execution_count": 238,
   "id": "6d54b527-25c5-43e7-b5b8-738f735b0d47",
   "metadata": {},
   "outputs": [
    {
     "data": {
      "image/png": "[encoded data removed]",
      "text/plain": [
       "<Figure size 640x480 with 1 Axes>"
      ]
     },
     "metadata": {},
     "output_type": "display_data"
    }
   ],
   "source": [
    "plt.show()"
   ]
  },
  {
   "cell_type": "code",
   "execution_count": 63,
   "id": "ada33153-930f-424e-babd-f030f1c6cdc6",
   "metadata": {},
   "outputs": [],
   "source": []
  },
  {
   "cell_type": "code",
   "execution_count": null,
   "id": "d28c6983-0aa8-41ce-904f-ffe13a004f33",
   "metadata": {},
   "outputs": [],
   "source": [
    "PRODUCT BY MALL"
   ]
  },
  {
   "cell_type": "code",
   "execution_count": 218,
   "id": "aa215a2e-2601-4c7c-b12c-bad0f700e8fe",
   "metadata": {},
   "outputs": [],
   "source": [
    "import pandas as pd"
   ]
  },
  {
   "cell_type": "code",
   "execution_count": 219,
   "id": "85604441-631b-4f25-80a4-392ccb7ac16a",
   "metadata": {},
   "outputs": [],
   "source": [
    "import matplotlib.pyplot as plt\n",
    "%matplotlib inline"
   ]
  },
  {
   "cell_type": "code",
   "execution_count": 220,
   "id": "260fa9d6-bed3-4254-8bb1-5f0e30ece1e9",
   "metadata": {},
   "outputs": [],
   "source": [
    "data = pd.read_excel(r'\\\\Mac\\Home\\Desktop\\Roban_Stores_ Dataset.xls')"
   ]
  },
  {
   "cell_type": "code",
   "execution_count": 221,
   "id": "aed315e4-8e38-4750-aa48-2be5ef4d44d6",
   "metadata": {},
   "outputs": [
    {
     "data": {
      "text/html": [
       "<div>\n",
       "<style scoped>\n",
       "    .dataframe tbody tr th:only-of-type {\n",
       "        vertical-align: middle;\n",
       "    }\n",
       "\n",
       "    .dataframe tbody tr th {\n",
       "        vertical-align: top;\n",
       "    }\n",
       "\n",
       "    .dataframe thead th {\n",
       "        text-align: right;\n",
       "    }\n",
       "</style>\n",
       "<table border=\"1\" class=\"dataframe\">\n",
       "  <thead>\n",
       "    <tr style=\"text-align: right;\">\n",
       "      <th></th>\n",
       "      <th>invoice_no</th>\n",
       "      <th>customer_id</th>\n",
       "      <th>gender</th>\n",
       "      <th>category</th>\n",
       "      <th>quantity</th>\n",
       "      <th>price</th>\n",
       "      <th>Sales Amount</th>\n",
       "      <th>payment_method</th>\n",
       "      <th>invoice_date</th>\n",
       "      <th>shopping_mall</th>\n",
       "    </tr>\n",
       "  </thead>\n",
       "  <tbody>\n",
       "    <tr>\n",
       "      <th>0</th>\n",
       "      <td>I138884</td>\n",
       "      <td>C241288</td>\n",
       "      <td>Female</td>\n",
       "      <td>fashion</td>\n",
       "      <td>5</td>\n",
       "      <td>12500</td>\n",
       "      <td>62500</td>\n",
       "      <td>Credit Card</td>\n",
       "      <td>2022-08-05</td>\n",
       "      <td>Trans - Ekulu</td>\n",
       "    </tr>\n",
       "    <tr>\n",
       "      <th>1</th>\n",
       "      <td>I317333</td>\n",
       "      <td>C111565</td>\n",
       "      <td>Male</td>\n",
       "      <td>fashion</td>\n",
       "      <td>3</td>\n",
       "      <td>22500</td>\n",
       "      <td>67500</td>\n",
       "      <td>Roban Gift Card</td>\n",
       "      <td>2021-12-12</td>\n",
       "      <td>Nnewi Mall</td>\n",
       "    </tr>\n",
       "    <tr>\n",
       "      <th>2</th>\n",
       "      <td>I127801</td>\n",
       "      <td>C266599</td>\n",
       "      <td>Male</td>\n",
       "      <td>fashion</td>\n",
       "      <td>1</td>\n",
       "      <td>7000</td>\n",
       "      <td>7000</td>\n",
       "      <td>Cash</td>\n",
       "      <td>2021-11-09</td>\n",
       "      <td>independence layout</td>\n",
       "    </tr>\n",
       "    <tr>\n",
       "      <th>3</th>\n",
       "      <td>I173702</td>\n",
       "      <td>C988172</td>\n",
       "      <td>Female</td>\n",
       "      <td>fashion</td>\n",
       "      <td>5</td>\n",
       "      <td>71300</td>\n",
       "      <td>356500</td>\n",
       "      <td>Credit Card</td>\n",
       "      <td>2021-05-16</td>\n",
       "      <td>Awka Mall</td>\n",
       "    </tr>\n",
       "    <tr>\n",
       "      <th>4</th>\n",
       "      <td>I337046</td>\n",
       "      <td>C189076</td>\n",
       "      <td>Female</td>\n",
       "      <td>bakerys</td>\n",
       "      <td>4</td>\n",
       "      <td>3050</td>\n",
       "      <td>12200</td>\n",
       "      <td>Cash</td>\n",
       "      <td>2021-10-24</td>\n",
       "      <td>Trans - Ekulu</td>\n",
       "    </tr>\n",
       "    <tr>\n",
       "      <th>...</th>\n",
       "      <td>...</td>\n",
       "      <td>...</td>\n",
       "      <td>...</td>\n",
       "      <td>...</td>\n",
       "      <td>...</td>\n",
       "      <td>...</td>\n",
       "      <td>...</td>\n",
       "      <td>...</td>\n",
       "      <td>...</td>\n",
       "      <td>...</td>\n",
       "    </tr>\n",
       "    <tr>\n",
       "      <th>99452</th>\n",
       "      <td>I219422</td>\n",
       "      <td>C441542</td>\n",
       "      <td>Female</td>\n",
       "      <td>fruits &amp; vegetable</td>\n",
       "      <td>5</td>\n",
       "      <td>3720</td>\n",
       "      <td>18600</td>\n",
       "      <td>Credit Card</td>\n",
       "      <td>2022-09-21</td>\n",
       "      <td>Trans - Ekulu</td>\n",
       "    </tr>\n",
       "    <tr>\n",
       "      <th>99453</th>\n",
       "      <td>I325143</td>\n",
       "      <td>C569580</td>\n",
       "      <td>Male</td>\n",
       "      <td>Food &amp; Beverage</td>\n",
       "      <td>2</td>\n",
       "      <td>5500</td>\n",
       "      <td>11000</td>\n",
       "      <td>Cash</td>\n",
       "      <td>2021-09-22</td>\n",
       "      <td>Nnewi Mall</td>\n",
       "    </tr>\n",
       "    <tr>\n",
       "      <th>99454</th>\n",
       "      <td>I824010</td>\n",
       "      <td>C103292</td>\n",
       "      <td>Male</td>\n",
       "      <td>Food &amp; Beverage</td>\n",
       "      <td>2</td>\n",
       "      <td>5500</td>\n",
       "      <td>11000</td>\n",
       "      <td>Roban Gift Card</td>\n",
       "      <td>2021-03-28</td>\n",
       "      <td>independence layout</td>\n",
       "    </tr>\n",
       "    <tr>\n",
       "      <th>99455</th>\n",
       "      <td>I702964</td>\n",
       "      <td>C800631</td>\n",
       "      <td>Male</td>\n",
       "      <td>household</td>\n",
       "      <td>4</td>\n",
       "      <td>4200</td>\n",
       "      <td>16800</td>\n",
       "      <td>Cash</td>\n",
       "      <td>2021-03-16</td>\n",
       "      <td>Nike Lake Mall</td>\n",
       "    </tr>\n",
       "    <tr>\n",
       "      <th>99456</th>\n",
       "      <td>I232867</td>\n",
       "      <td>C273973</td>\n",
       "      <td>Female</td>\n",
       "      <td>fruits &amp; vegetable</td>\n",
       "      <td>3</td>\n",
       "      <td>5300</td>\n",
       "      <td>15900</td>\n",
       "      <td>Credit Card</td>\n",
       "      <td>2022-10-15</td>\n",
       "      <td>Agbani Mall</td>\n",
       "    </tr>\n",
       "  </tbody>\n",
       "</table>\n",
       "<p>99457 rows × 10 columns</p>\n",
       "</div>"
      ],
      "text/plain": [
       "      invoice_no customer_id  gender            category  quantity  price  \\\n",
       "0        I138884     C241288  Female             fashion         5  12500   \n",
       "1        I317333     C111565    Male             fashion         3  22500   \n",
       "2        I127801     C266599    Male             fashion         1   7000   \n",
       "3        I173702     C988172  Female             fashion         5  71300   \n",
       "4        I337046     C189076  Female             bakerys         4   3050   \n",
       "...          ...         ...     ...                 ...       ...    ...   \n",
       "99452    I219422     C441542  Female  fruits & vegetable         5   3720   \n",
       "99453    I325143     C569580    Male     Food & Beverage         2   5500   \n",
       "99454    I824010     C103292    Male     Food & Beverage         2   5500   \n",
       "99455    I702964     C800631    Male           household         4   4200   \n",
       "99456    I232867     C273973  Female  fruits & vegetable         3   5300   \n",
       "\n",
       "       Sales Amount   payment_method invoice_date        shopping_mall  \n",
       "0             62500      Credit Card   2022-08-05        Trans - Ekulu  \n",
       "1             67500  Roban Gift Card   2021-12-12           Nnewi Mall  \n",
       "2              7000             Cash   2021-11-09  independence layout  \n",
       "3            356500      Credit Card   2021-05-16            Awka Mall  \n",
       "4             12200             Cash   2021-10-24        Trans - Ekulu  \n",
       "...             ...              ...          ...                  ...  \n",
       "99452         18600      Credit Card   2022-09-21        Trans - Ekulu  \n",
       "99453         11000             Cash   2021-09-22           Nnewi Mall  \n",
       "99454         11000  Roban Gift Card   2021-03-28  independence layout  \n",
       "99455         16800             Cash   2021-03-16       Nike Lake Mall  \n",
       "99456         15900      Credit Card   2022-10-15          Agbani Mall  \n",
       "\n",
       "[99457 rows x 10 columns]"
      ]
     },
     "execution_count": 221,
     "metadata": {},
     "output_type": "execute_result"
    }
   ],
   "source": [
    "data"
   ]
  },
  {
   "cell_type": "code",
   "execution_count": 222,
   "id": "0853eb0a-3d0a-41d2-b516-9c8fabd6add2",
   "metadata": {},
   "outputs": [],
   "source": [
    "product_categories = data.groupby(['shopping_mall','category'])[['Sales Amount']].sum().reset_index()"
   ]
  },
  {
   "cell_type": "code",
   "execution_count": 223,
   "id": "5df029c3-4323-49ca-90af-6f10f0dea49f",
   "metadata": {},
   "outputs": [],
   "source": [
    "data = product_categories.pivot(index='shopping_mall',columns='category',values='Sales Amount')"
   ]
  },
  {
   "cell_type": "code",
   "execution_count": 226,
   "id": "06e7d89a-4148-4091-befc-9835f3598a6d",
   "metadata": {},
   "outputs": [
    {
     "data": {
      "text/plain": [
       "<Axes: xlabel='shopping_mall'>"
      ]
     },
     "execution_count": 226,
     "metadata": {},
     "output_type": "execute_result"
    }
   ],
   "source": [
    "data.plot(kind='bar',stacked=False,figsize=(12,6))"
   ]
  },
  {
   "cell_type": "code",
   "execution_count": 227,
   "id": "2a0f3a2d-6a1f-4550-9de3-222abc9acd0e",
   "metadata": {},
   "outputs": [],
   "source": [
    "plt.xlabel('shopping_mall')\n",
    "plt.ylabel('Sales Amount')\n",
    "plt.title('Product Categories by Shopping Mall')\n",
    "plt.legend(title='category',loc='upper right')\n",
    "plt.xticks(rotation=30)\n",
    "plt.tight_layout()"
   ]
  },
  {
   "cell_type": "code",
   "execution_count": 228,
   "id": "8234dfdb-3be1-48f3-8073-2c0cfe438eb1",
   "metadata": {},
   "outputs": [
    {
     "data": {
      "image/png": "[encoded data removed]",
      "text/plain": [
       "<Figure size 1200x600 with 1 Axes>"
      ]
     },
     "metadata": {},
     "output_type": "display_data"
    }
   ],
   "source": [
    "plt.show()"
   ]
  },
  {
   "cell_type": "code",
   "execution_count": null,
   "id": "fe9789e8-d490-4294-9b5b-3eaf172adeb7",
   "metadata": {},
   "outputs": [],
   "source": [
    "#ANALYZE PAYMENT METHODS BY MALL"
   ]
  },
  {
   "cell_type": "code",
   "execution_count": 39,
   "id": "2912f68b-ab3b-49ce-be61-b06d96b8565e",
   "metadata": {},
   "outputs": [],
   "source": [
    "import pandas as pd"
   ]
  },
  {
   "cell_type": "code",
   "execution_count": 40,
   "id": "47fefefa-783a-4166-82bc-5fbc388c906a",
   "metadata": {},
   "outputs": [],
   "source": [
    "import matplotlib.pyplot as plt\n",
    "%matplotlib inline\n",
    "import seaborn as sns"
   ]
  },
  {
   "cell_type": "code",
   "execution_count": 41,
   "id": "3d158dbb-a569-4da7-9e3e-081b47a62b42",
   "metadata": {},
   "outputs": [],
   "source": [
    "data = pd.read_excel(r'\\\\Mac\\Home\\Desktop\\Roban_Stores_ Dataset.xls')"
   ]
  },
  {
   "cell_type": "code",
   "execution_count": 4,
   "id": "af8cc778-8305-4996-a83d-3db96ec15139",
   "metadata": {},
   "outputs": [
    {
     "name": "stdout",
     "output_type": "stream",
     "text": [
      "shopping_mall        payment_method \n",
      "Abakaliki Mall       Cash               2324\n",
      "                     Credit Card        1760\n",
      "                     Roban Gift Card     991\n",
      "Agbani Mall          Cash               8894\n",
      "                     Credit Card        7019\n",
      "                     Roban Gift Card    4030\n",
      "Asaba Mall           Cash               2228\n",
      "                     Credit Card        1779\n",
      "                     Roban Gift Card     984\n",
      "Awka Mall            Cash               6790\n",
      "                     Credit Card        5242\n",
      "                     Roban Gift Card    3043\n",
      "Nike Lake Mall       Cash               4436\n",
      "                     Credit Card        3422\n",
      "                     Roban Gift Card    1923\n",
      "Nnewi Mall           Cash               2183\n",
      "                     Credit Card        1750\n",
      "                     Roban Gift Card    1014\n",
      "Trans - Ekulu        Cash               8853\n",
      "                     Credit Card        6916\n",
      "                     Roban Gift Card    4054\n",
      "independence layout  Cash               8739\n",
      "                     Credit Card        7043\n",
      "                     Roban Gift Card    4040\n",
      "Name: count, dtype: int64\n"
     ]
    }
   ],
   "source": [
    "mall_payment_methods = data.groupby(['shopping_mall'])[['payment_method']].value_counts()\n",
    "print (mall_payment_methods)"
   ]
  },
  {
   "cell_type": "code",
   "execution_count": 5,
   "id": "d1e88b6c-3ef4-47d2-980e-7bdb9be75382",
   "metadata": {},
   "outputs": [
    {
     "data": {
      "text/plain": [
       "<Figure size 1000x600 with 0 Axes>"
      ]
     },
     "metadata": {},
     "output_type": "display_data"
    },
    {
     "data": {
      "image/png": "[encoded data removed]",
      "text/plain": [
       "<Figure size 640x480 with 1 Axes>"
      ]
     },
     "metadata": {},
     "output_type": "display_data"
    }
   ],
   "source": [
    "plt.figure(figsize=(10,6))\n",
    "mall_payment_methods.unstack().plot(kind='bar')\n",
    "plt.title('Payment Methods by Mall')\n",
    "plt.xlabel('shopping_mall')\n",
    "plt.ylabel('count')\n",
    "plt.show()"
   ]
  },
  {
   "cell_type": "code",
   "execution_count": 6,
   "id": "57ef58f5-4539-4086-b940-d3547cb7689a",
   "metadata": {},
   "outputs": [],
   "source": [
    "high_value_transactions = data[data['transaction_value']>1000]"
   ]
  },
  {
   "cell_type": "code",
   "execution_count": 7,
   "id": "53d7a7b1-3193-4d2c-bd50-f32c499175c9",
   "metadata": {},
   "outputs": [
    {
     "name": "stdout",
     "output_type": "stream",
     "text": [
      "payment_method\n",
      "Cash               44447\n",
      "Credit Card        34931\n",
      "Roban Gift Card    20079\n",
      "Name: count, dtype: int64\n"
     ]
    }
   ],
   "source": [
    "high_value_payment_methods= high_value_transactions['payment_method'].value_counts()\n",
    "print(high_value_payment_methods)"
   ]
  },
  {
   "cell_type": "code",
   "execution_count": 8,
   "id": "aa10320e-c050-46c0-8f54-34a52483be76",
   "metadata": {},
   "outputs": [
    {
     "data": {
      "image/png": "[encoded data removed]",
      "text/plain": [
       "<Figure size 1000x600 with 1 Axes>"
      ]
     },
     "metadata": {},
     "output_type": "display_data"
    }
   ],
   "source": [
    "plt.figure(figsize=(10,6))\n",
    "high_value_payment_methods.plot(kind='bar')\n",
    "plt.title('Payment Methods For High-Value Transactions')\n",
    "plt.xlabel('Payment Methods')\n",
    "plt.ylabel('Count')\n",
    "plt.show()"
   ]
  },
  {
   "cell_type": "code",
   "execution_count": 9,
   "id": "86ea6dc4-b8a2-436c-a5c5-c1eb2ffc4f4d",
   "metadata": {},
   "outputs": [
    {
     "name": "stdout",
     "output_type": "stream",
     "text": [
      "payment_method\n",
      "Cash               44.689665\n",
      "Credit Card        35.121711\n",
      "Roban Gift Card    20.188624\n",
      "Name: count, dtype: float64\n"
     ]
    }
   ],
   "source": [
    "total_transactions=len(data)\n",
    "payment_methods= data['payment_method'].value_counts()\n",
    "percentages=(payment_methods/total_transactions)*100\n",
    "print (percentages)"
   ]
  },
  {
   "cell_type": "code",
   "execution_count": 42,
   "id": "5564d75f-3be5-4816-8aaf-486eb97a3ea4",
   "metadata": {},
   "outputs": [
    {
     "ename": "SyntaxError",
     "evalue": "unterminated string literal (detected at line 1) (2924270628.py, line 1)",
     "output_type": "error",
     "traceback": [
      "\u001b[1;36m  Cell \u001b[1;32mIn[42], line 1\u001b[1;36m\u001b[0m\n\u001b[1;33m    payment_method_numerical= pd.get_dummies(data['payment_method'],prefix='payment_method)\u001b[0m\n\u001b[1;37m                                                                           ^\u001b[0m\n\u001b[1;31mSyntaxError\u001b[0m\u001b[1;31m:\u001b[0m unterminated string literal (detected at line 1)\n"
     ]
    }
   ],
   "source": [
    "payment_method_numerical= pd.get_dummies(data['payment_method'],prefix='payment_method)\n",
    "demographics=data[['gender']]"
   ]
  },
  {
   "cell_type": "code",
   "execution_count": 43,
   "id": "2836f2c0-0f70-481c-ac4c-f8fb5f5ee259",
   "metadata": {},
   "outputs": [],
   "source": [
    "gender_numerical=demographics['gender'].map({'Male': 1, 'Female':0})\n",
    "merged_data= pd.concat([demographics,payment_method_numerical],axis=1)"
   ]
  },
  {
   "cell_type": "code",
   "execution_count": 44,
   "id": "037fff54-5b70-4381-a87c-15c8bc4f95ea",
   "metadata": {},
   "outputs": [],
   "source": [
    "data['gender']=gender_numerical"
   ]
  },
  {
   "cell_type": "code",
   "execution_count": 45,
   "id": "8c7e0939-01eb-4100-9523-bdd47dee9694",
   "metadata": {},
   "outputs": [],
   "source": [
    "merged_data=pd.concat([data[['gender']],payment_method_numerical],axis=1)"
   ]
  },
  {
   "cell_type": "code",
   "execution_count": 46,
   "id": "1c5eaca3-5854-40b4-a93d-65b56f8c10b5",
   "metadata": {},
   "outputs": [],
   "source": [
    "correlation_matrix=merged_data.corr()"
   ]
  },
  {
   "cell_type": "code",
   "execution_count": 47,
   "id": "bc523e7b-5ac9-4563-bf7b-e21bc42caffe",
   "metadata": {},
   "outputs": [
    {
     "data": {
      "image/png": "[encoded data removed]",
      "text/plain": [
       "<Figure size 640x480 with 2 Axes>"
      ]
     },
     "metadata": {},
     "output_type": "display_data"
    }
   ],
   "source": [
    "sns.heatmap(correlation_matrix,annot=True,cmap='coolwarm',square=True)\n",
    "plt.show()"
   ]
  },
  {
   "cell_type": "code",
   "execution_count": null,
   "id": "9c8648c3-ffeb-4733-8243-43a2687a722c",
   "metadata": {},
   "outputs": [],
   "source": []
  }
 ],
 "metadata": {
  "kernelspec": {
   "display_name": "Python 3 (ipykernel)",
   "language": "python",
   "name": "python3"
  },
  "language_info": {
   "codemirror_mode": {
    "name": "ipython",
    "version": 3
   },
   "file_extension": ".py",
   "mimetype": "text/x-python",
   "name": "python",
   "nbconvert_exporter": "python",
   "pygments_lexer": "ipython3",
   "version": "3.12.7"
  }
 },
 "nbformat": 4,
 "nbformat_minor": 5
}
